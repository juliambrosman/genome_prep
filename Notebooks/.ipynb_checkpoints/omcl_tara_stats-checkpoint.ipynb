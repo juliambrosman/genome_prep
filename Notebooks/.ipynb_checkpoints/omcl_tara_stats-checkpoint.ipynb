{
 "cells": [
  {
   "cell_type": "code",
   "execution_count": 29,
   "metadata": {
    "collapsed": false
   },
   "outputs": [],
   "source": [
    "from __future__ import print_function\n",
    "from __future__ import division\n",
    "import os.path as op\n",
    "import os\n",
    "import pandas as pd\n",
    "from collections import defaultdict"
   ]
  },
  {
   "cell_type": "code",
   "execution_count": 33,
   "metadata": {
    "collapsed": true
   },
   "outputs": [],
   "source": [
    "evaldict = defaultdict(lambda: 1)\n",
    "blast_dict = {}"
   ]
  },
  {
   "cell_type": "code",
   "execution_count": 34,
   "metadata": {
    "collapsed": false
   },
   "outputs": [],
   "source": [
    "with open(\"../data/clust_reps_vs_tara.translated.out\") as infile:\n",
    "    for i, line in enumerate(infile):\n",
    "#        print(line)\n",
    "        number = i\n",
    "        ev = l.split(\"\\t\")[-1]\n",
    "        npc = l.split(\"\\t\")[0]\n",
    "        if ev < evaldict[npc]:\n",
    "            evaldict[npc] = ev\n",
    "            blast_dict[npc] = line.split(\"\\t\")[1:]"
   ]
  },
  {
   "cell_type": "code",
   "execution_count": null,
   "metadata": {
    "collapsed": true
   },
   "outputs": [],
   "source": []
  },
  {
   "cell_type": "code",
   "execution_count": null,
   "metadata": {
    "collapsed": true
   },
   "outputs": [],
   "source": []
  },
  {
   "cell_type": "code",
   "execution_count": null,
   "metadata": {
    "collapsed": true
   },
   "outputs": [],
   "source": []
  },
  {
   "cell_type": "code",
   "execution_count": null,
   "metadata": {
    "collapsed": true
   },
   "outputs": [],
   "source": []
  },
  {
   "cell_type": "code",
   "execution_count": null,
   "metadata": {
    "collapsed": true
   },
   "outputs": [],
   "source": []
  },
  {
   "cell_type": "code",
   "execution_count": 10,
   "metadata": {
    "collapsed": false
   },
   "outputs": [
    {
     "data": {
      "text/plain": [
       "Index([u'queryId', u' subjectId', u' percIdentity', u' alnLength',\n",
       "       u' mismatchCount', u' gapOpenCount', u' queryStart', u' queryEnd',\n",
       "       u' subjectStart', u' subjectEnd', u' eVal', u' bitScore'],\n",
       "      dtype='object')"
      ]
     },
     "execution_count": 10,
     "metadata": {},
     "output_type": "execute_result"
    }
   ],
   "source": [
    "cnames = \"queryId, subjectId, percIdentity, alnLength, mismatchCount, gapOpenCount, queryStart, queryEnd, subjectStart, subjectEnd, eVal, bitScore\".split(\",\")\n",
    "df = pd.read_csv(\"../data/clust_reps_vs_tara.translated.out\", sep=\"\\t\", names=cnames)\n",
    "df.columns"
   ]
  },
  {
   "cell_type": "code",
   "execution_count": 25,
   "metadata": {
    "collapsed": false
   },
   "outputs": [],
   "source": [
    "total_matches = len(df.queryId.unique())"
   ]
  },
  {
   "cell_type": "code",
   "execution_count": 21,
   "metadata": {
    "collapsed": false
   },
   "outputs": [],
   "source": [
    "!cp /Users/jmb/Desktop/ViralFate/OrthoMCL/phage_v_phage/groups.txt ../data/\n",
    "!cp /Users/jmb/Desktop/ViralFate/OrthoMCL/phage_v_phage/goodProteins.fasta ../data/"
   ]
  },
  {
   "cell_type": "code",
   "execution_count": 28,
   "metadata": {
    "collapsed": false
   },
   "outputs": [
    {
     "name": "stdout",
     "output_type": "stream",
     "text": [
      "out of 2805 omcl groups, 1232 have matches to OM-RGC database\n"
     ]
    }
   ],
   "source": [
    "with open(\"../data/groups.txt\") as infile:\n",
    "    for i, l in enumerate(infile):\n",
    "        groupnum = i \n",
    "print(\"out of {i} omcl groups, {j} have matches to OM-RGC database\".format(i=groupnum, j=total_matches))"
   ]
  },
  {
   "cell_type": "code",
   "execution_count": null,
   "metadata": {
    "collapsed": true
   },
   "outputs": [],
   "source": []
  }
 ],
 "metadata": {
  "kernelspec": {
   "display_name": "Python 2",
   "language": "python",
   "name": "python2"
  },
  "language_info": {
   "codemirror_mode": {
    "name": "ipython",
    "version": 2
   },
   "file_extension": ".py",
   "mimetype": "text/x-python",
   "name": "python",
   "nbconvert_exporter": "python",
   "pygments_lexer": "ipython2",
   "version": "2.7.11"
  }
 },
 "nbformat": 4,
 "nbformat_minor": 0
}
