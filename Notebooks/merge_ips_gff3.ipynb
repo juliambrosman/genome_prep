{
 "cells": [
  {
   "cell_type": "code",
   "execution_count": 2,
   "metadata": {
    "collapsed": true
   },
   "outputs": [],
   "source": [
    "from __future__ import print_function\n",
    "import glob\n",
    "import os\n",
    "import os.path as op\n",
    "import pandas as pd"
   ]
  },
  {
   "cell_type": "code",
   "execution_count": 7,
   "metadata": {
    "collapsed": true
   },
   "outputs": [],
   "source": []
  },
  {
   "cell_type": "code",
   "execution_count": null,
   "metadata": {
    "collapsed": true
   },
   "outputs": [],
   "source": []
  },
  {
   "cell_type": "code",
   "execution_count": 99,
   "metadata": {
    "collapsed": true
   },
   "outputs": [],
   "source": [
    "def ips_dict(ips):\n",
    "    ips_columns = [\"ProteinAcc\", \n",
    "               \"SeqMD5\",\n",
    "               \"SeqLen\",\n",
    "               \"Analysis\",\n",
    "               \"SignatureAccession\",\n",
    "               \"SignatureDescription\",\n",
    "               \"StartLoc\",\n",
    "               \"StopLoc\",\n",
    "               \"Score\",\n",
    "               \"Status\",\n",
    "               \"Date\",\n",
    "               \"InterProAnnotationAcc\",\n",
    "               \"InterproAnnotationDesc\",\n",
    "               \"GOAnnotation\"]\n",
    "    df = pd.read_csv(ips, sep=\"\\t\", index_col=False, names=ips_columns)\n",
    "    best_hits = df[df.groupby(['ProteinAcc'])['Score'].transform(min)==df['Score']].drop_duplicates()\n",
    "    ips_anns = {}\n",
    "\n",
    "    for i, l in best_hits.iterrows():\n",
    "        pid = l.ProteinAcc.replace(\"phage\",\"_virus\")\n",
    "        source = \"InterPro\"\n",
    "        if pd.isnull(l.InterproAnnotationDesc):\n",
    "            if l.Analysis == \"TMHMM\" or l.Analysis == \"Coils\":\n",
    "                desc = \"{element} containing protein\".format(element=l.SignatureAccession)\n",
    "            else:\n",
    "                if pd.isnull(l.SignatureDescription):\n",
    "                    continue\n",
    "                else:\n",
    "                    desc = l.SignatureDescription\n",
    "            ips_anns[pid] = [ desc, source]\n",
    "        else:\n",
    "            desc = l.InterproAnnotationDesc\n",
    "            ipsid = l.InterProAnnotationAcc\n",
    "            ips_anns[pid] = [desc,source, ipsid]\n",
    "\n",
    "    return ips_anns"
   ]
  },
  {
   "cell_type": "code",
   "execution_count": 100,
   "metadata": {
    "collapsed": true
   },
   "outputs": [
    {
     "data": {
      "text/plain": [
       "{'Vibrio_virus_1.005.O._10N.286.48.F2_1': ['Bacteriophage T5, Orf172 DNA-binding',\n",
       "  'IPS Pfam',\n",
       "  'IPR018306'],\n",
       " 'Vibrio_virus_1.005.O._10N.286.48.F2_12': ['Tail sheath protein',\n",
       "  'IPS Pfam',\n",
       "  'IPR007067'],\n",
       " 'Vibrio_virus_1.005.O._10N.286.48.F2_19': ['Homeodomain-like',\n",
       "  'IPS SUPERFAMILY',\n",
       "  'IPR009057'],\n",
       " 'Vibrio_virus_1.005.O._10N.286.48.F2_2': ['Coil containing protein',\n",
       "  'IPS Coils'],\n",
       " 'Vibrio_virus_1.005.O._10N.286.48.F2_21': ['TMhelix containing protein',\n",
       "  'IPS TMHMM'],\n",
       " 'Vibrio_virus_1.005.O._10N.286.48.F2_22': ['Coil containing protein',\n",
       "  'IPS Coils'],\n",
       " 'Vibrio_virus_1.005.O._10N.286.48.F2_23': ['Bacteriophage T5, Orf172 DNA-binding',\n",
       "  'IPS Pfam',\n",
       "  'IPR018306'],\n",
       " 'Vibrio_virus_1.005.O._10N.286.48.F2_25': ['DNA circulation, N-terminal',\n",
       "  'IPS Pfam',\n",
       "  'IPR009826'],\n",
       " 'Vibrio_virus_1.005.O._10N.286.48.F2_26': ['Metallo-dependent phosphatase-like',\n",
       "  'IPS SUPERFAMILY',\n",
       "  'IPR029052'],\n",
       " 'Vibrio_virus_1.005.O._10N.286.48.F2_28': ['DNA methylase, C-5 cytosine-specific, active site',\n",
       "  'IPS ProSitePatterns',\n",
       "  'IPR018117'],\n",
       " 'Vibrio_virus_1.005.O._10N.286.48.F2_3': ['Coil containing protein',\n",
       "  'IPS Coils'],\n",
       " 'Vibrio_virus_1.005.O._10N.286.48.F2_34': ['DNA methylase, N-6 adenine-specific, conserved site',\n",
       "  'IPS ProSitePatterns',\n",
       "  'IPR002052'],\n",
       " 'Vibrio_virus_1.005.O._10N.286.48.F2_35': ['Bacteriophage Mu, Gp48',\n",
       "  'IPS Pfam',\n",
       "  'IPR018755'],\n",
       " 'Vibrio_virus_1.005.O._10N.286.48.F2_4': ['Coil containing protein',\n",
       "  'IPS Coils'],\n",
       " 'Vibrio_virus_1.005.O._10N.286.48.F2_40': ['Coil containing protein',\n",
       "  'IPS Coils'],\n",
       " 'Vibrio_virus_1.005.O._10N.286.48.F2_41': ['Cro/C1-type helix-turn-helix domain',\n",
       "  'IPS Pfam',\n",
       "  'IPR001387'],\n",
       " 'Vibrio_virus_1.005.O._10N.286.48.F2_42': ['Coil containing protein',\n",
       "  'IPS Coils'],\n",
       " 'Vibrio_virus_1.005.O._10N.286.48.F2_43': ['TMhelix containing protein',\n",
       "  'IPS TMHMM'],\n",
       " 'Vibrio_virus_1.005.O._10N.286.48.F2_44': ['TMhelix containing protein',\n",
       "  'IPS TMHMM'],\n",
       " 'Vibrio_virus_1.005.O._10N.286.48.F2_46': ['Prokaryotic membrane lipoprotein lipid attachment site profile.',\n",
       "  'IPS ProSiteProfiles'],\n",
       " 'Vibrio_virus_1.005.O._10N.286.48.F2_47': ['TMhelix containing protein',\n",
       "  'IPS TMHMM'],\n",
       " 'Vibrio_virus_1.005.O._10N.286.48.F2_48': ['N-acetylmuramoyl-L-alanine amidase domain',\n",
       "  'IPS SMART',\n",
       "  'IPR002502'],\n",
       " 'Vibrio_virus_1.005.O._10N.286.48.F2_49': ['TMhelix containing protein',\n",
       "  'IPS TMHMM'],\n",
       " 'Vibrio_virus_1.005.O._10N.286.48.F2_5': ['Phage portal protein, lambda family',\n",
       "  'IPS Pfam',\n",
       "  'IPR006429'],\n",
       " 'Vibrio_virus_1.005.O._10N.286.48.F2_51': ['Bacteriophage P22, NinX',\n",
       "  'IPS Pfam',\n",
       "  'IPR019701'],\n",
       " 'Vibrio_virus_1.005.O._10N.286.48.F2_53': ['Coil containing protein',\n",
       "  'IPS Coils'],\n",
       " 'Vibrio_virus_1.005.O._10N.286.48.F2_54': ['dUTPase-like',\n",
       "  'IPS SUPERFAMILY',\n",
       "  'IPR029054'],\n",
       " 'Vibrio_virus_1.005.O._10N.286.48.F2_55': ['DNA methylase, N-6 adenine-specific, conserved site',\n",
       "  'IPS ProSitePatterns',\n",
       "  'IPR002052'],\n",
       " 'Vibrio_virus_1.005.O._10N.286.48.F2_57': ['EAC', 'IPS ProDom'],\n",
       " 'Vibrio_virus_1.005.O._10N.286.48.F2_6': ['TMhelix containing protein',\n",
       "  'IPS TMHMM'],\n",
       " 'Vibrio_virus_1.005.O._10N.286.48.F2_60': ['P-loop containing nucleoside triphosphate hydrolase',\n",
       "  'IPS SUPERFAMILY',\n",
       "  'IPR027417'],\n",
       " 'Vibrio_virus_1.005.O._10N.286.48.F2_62': ['Ribonuclease H-like domain',\n",
       "  'IPS Pfam',\n",
       "  'IPR012337'],\n",
       " 'Vibrio_virus_1.005.O._10N.286.48.F2_63': ['Coil containing protein',\n",
       "  'IPS Coils'],\n",
       " 'Vibrio_virus_1.005.O._10N.286.48.F2_64': ['Streptococcus phage Sfi11, Gp151',\n",
       "  'IPS Pfam',\n",
       "  'IPR007731'],\n",
       " 'Vibrio_virus_1.005.O._10N.286.48.F2_65': ['P-loop containing nucleoside triphosphate hydrolase',\n",
       "  'IPS SUPERFAMILY',\n",
       "  'IPR027417'],\n",
       " 'Vibrio_virus_1.005.O._10N.286.48.F2_66': ['Coil containing protein',\n",
       "  'IPS Coils']}"
      ]
     },
     "execution_count": 100,
     "metadata": {},
     "output_type": "execute_result"
    }
   ],
   "source": [
    "ips_dict(ipslist[2])"
   ]
  },
  {
   "cell_type": "code",
   "execution_count": 91,
   "metadata": {
    "collapsed": false
   },
   "outputs": [],
   "source": [
    "class GffLine():\n",
    "    def __init__(self, line):\n",
    "        vec = line.strip().split(\"\\t\")\n",
    "        self.name = vec[0]\n",
    "        self.method = vec[1]\n",
    "        self.etype = vec[2]\n",
    "        self.cstart = vec[3]\n",
    "        self.cstop = vec[4]\n",
    "        self.dot = vec[5]\n",
    "        self.strand = vec[6]\n",
    "        self.something = vec[7]\n",
    "        self.notes = \";\".join([i for i in vec[8].split(\";\") if \"ID=\" not in i and \"Name=\" not in i])\n",
    "        self.pid = [i for i in vec[8].split(\";\") if \"ID=\" in i][0]\n",
    "        self.desc = [i for i in vec[8].split(\";\") if \"Name=\" in i][0]\n",
    "        self.key = \"{contig}_{number}\".format(contig=self.name, number=int(self.pid.split(\"_\")[-1]))\n",
    "    \n",
    "    def construct_note(self):\n",
    "        notes = \";\".join([self.pid, self.desc, self.notes])\n",
    "                            \n",
    "    def print_line(self):\n",
    "        notes = \";\".join([self.pid, self.desc, self.notes])\n",
    "        line = \"\\t\".join([self.name, self.method, self.etype, self.cstart, \n",
    "                          self.cstop, self.dot, self.strand, self.something, notes])\n",
    "        return line\n",
    "    \n",
    "    def change_id(self, newid):\n",
    "        self.pid = \"ID={newid}\".format(newid=newid)\n",
    "        \n",
    "    def change_desc(self, newdesc):\n",
    "        self.desc = \"Name={newdesc}\".format(newdesc=newdesc)"
   ]
  },
  {
   "cell_type": "code",
   "execution_count": 110,
   "metadata": {
    "collapsed": false
   },
   "outputs": [],
   "source": [
    "def find_file_matches(ipslist, gfflist):\n",
    "    for i in ipslist:\n",
    "        phage = i.split(\"/\")[-1].split(\"f\")[0]\n",
    "        ann = [j for j in gfflist if phage in j][0]\n",
    "        yield phage, i, ann\n",
    "    \n",
    "def combine_ips_gff3(ips, gff3, outfile):\n",
    "    ipsdict = ips_dict(ips)\n",
    "    with open(gff3) as infile, open(outfile, \"w\") as oh:\n",
    "        for l in infile:\n",
    "            if \"tRNAScan\" not in l and \"crispr\" not in l.lower():\n",
    "                line = GffLine(l)\n",
    "                if line.key in ipsdict.keys():\n",
    "                    line.change_desc(ipsdict[line.key][0])\n",
    "                    line.notes += '; ontology_term=\"InterPro:{ips}\"'.format(ips=ipsdict[line.key][-1])\n",
    "                print(line.print_line(), file=oh)\n",
    "            else:\n",
    "                print(l, file=oh)\n",
    "                "
   ]
  },
  {
   "cell_type": "code",
   "execution_count": null,
   "metadata": {
    "collapsed": true
   },
   "outputs": [],
   "source": [
    "gfflist = glob.glob(\"../gff_newnames/*\")\n",
    "ipslist = glob.glob(\"../ips_calls/*\")"
   ]
  },
  {
   "cell_type": "code",
   "execution_count": 105,
   "metadata": {
    "collapsed": true
   },
   "outputs": [],
   "source": [
    "if not op.exists(\"../combined_ips_gff3/\"):\n",
    "    os.mkdir(\"../combined_ips_gff3/\")"
   ]
  },
  {
   "cell_type": "code",
   "execution_count": 111,
   "metadata": {
    "collapsed": false
   },
   "outputs": [],
   "source": [
    "for phage, i, g in find_file_matches(ipslist, gfflist):\n",
    "    outfile = \"../combined_ips_gff3/{phage}_ips_blast.gff3\".format(phage=phage)\n",
    "    combine_ips_gff3(i, g, outfile)"
   ]
  },
  {
   "cell_type": "code",
   "execution_count": null,
   "metadata": {
    "collapsed": false
   },
   "outputs": [],
   "source": []
  }
 ],
 "metadata": {
  "kernelspec": {
   "display_name": "Python 2",
   "language": "python",
   "name": "python2"
  },
  "language_info": {
   "codemirror_mode": {
    "name": "ipython",
    "version": 2
   },
   "file_extension": ".py",
   "mimetype": "text/x-python",
   "name": "python",
   "nbconvert_exporter": "python",
   "pygments_lexer": "ipython2",
   "version": "2.7.11"
  }
 },
 "nbformat": 4,
 "nbformat_minor": 0
}
