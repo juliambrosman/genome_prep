{
 "cells": [
  {
   "cell_type": "code",
   "execution_count": 53,
   "metadata": {
    "collapsed": false
   },
   "outputs": [],
   "source": [
    "from __future__ import print_function\n",
    "from __future__ import division\n",
    "import os.path as op\n",
    "import os\n",
    "import pandas as pd\n",
    "from collections import defaultdict\n",
    "from itertools import groupby"
   ]
  },
  {
   "cell_type": "code",
   "execution_count": 49,
   "metadata": {
    "collapsed": true
   },
   "outputs": [],
   "source": [
    "evaldict = defaultdict(lambda: 1)\n",
    "blast_dict = {}"
   ]
  },
  {
   "cell_type": "code",
   "execution_count": 50,
   "metadata": {
    "collapsed": false
   },
   "outputs": [
    {
     "name": "stdout",
     "output_type": "stream",
     "text": [
      "pvp1011\tOM-RGC.v1.031721166\t91.5\t94\t8\t0\t1\t94\t1\t94\t5.6e-43\t179.9\n",
      "\n",
      "pvp1008\tOM-RGC.v1.018020304\t49.7\t181\t84\t3\t29\t202\t3\t183\t1.1e-41\t176.8\n",
      "\n",
      "pvp1008\tOM-RGC.v1.022691721\t47.4\t175\t78\t3\t29\t202\t3\t164\t7.3e-35\t154.1\n",
      "\n",
      "pvp1008\tOM-RGC.v1.019063349\t45.6\t180\t92\t1\t28\t201\t1\t180\t9.6e-35\t153.7\n",
      "\n",
      "pvp1008\tOM-RGC.v1.020581820\t44.8\t174\t90\t3\t35\t202\t1\t174\t1.6e-34\t152.9\n",
      "\n",
      "pvp1008\tOM-RGC.v1.017849209\t43.6\t181\t95\t3\t29\t202\t3\t183\t8.1e-34\t150.6\n",
      "\n",
      "pvp1008\tOM-RGC.v1.015895412\t41.1\t192\t99\t3\t22\t202\t6\t194\t8.1e-34\t150.6\n",
      "\n",
      "pvp1008\tOM-RGC.v1.019596046\t44.6\t177\t96\t2\t28\t202\t1\t177\t1.1e-33\t150.2\n",
      "\n",
      "pvp1008\tOM-RGC.v1.019437873\t44.5\t173\t95\t1\t29\t201\t6\t177\t1.8e-33\t149.4\n",
      "\n",
      "pvp1008\tOM-RGC.v1.019426250\t42.5\t179\t96\t3\t29\t200\t3\t181\t4.4e-32\t144.8\n",
      "\n"
     ]
    }
   ],
   "source": [
    "with open(\"../data/clust_reps_vs_tara.translated.out\") as infile:\n",
    "    for i, l in enumerate(infile):\n",
    "        if i<10:\n",
    "            print(l)\n",
    "        number = i\n",
    "        ev = float(l.split(\"\\t\")[-2])\n",
    "        npc = l.split(\"\\t\")[0]\n",
    "        if ev < evaldict[npc]:\n",
    "            evaldict[npc] = ev\n",
    "            blast_dict[npc] = l.split(\"\\t\")[1:]"
   ]
  },
  {
   "cell_type": "code",
   "execution_count": 70,
   "metadata": {
    "collapsed": false
   },
   "outputs": [],
   "source": [
    "len_dict = {}\n",
    "\n",
    "def read_fasta(file_handle):\n",
    "    '''Fasta iterator'''\n",
    "    for header, group in groupby(file_handle, lambda line: line[0] == '>'):\n",
    "        if header:\n",
    "            line = next(group)\n",
    "            name = line[1:].strip()\n",
    "        else:\n",
    "            seq = ''.join(line.strip() for line in group)\n",
    "            yield name, seq\n",
    "            \n",
    "for name, seq in read_fasta(open(\"../data/clust_reps.fasta\")):\n",
    "    len_dict[name]=len(seq)"
   ]
  },
  {
   "cell_type": "code",
   "execution_count": 67,
   "metadata": {
    "collapsed": false
   },
   "outputs": [],
   "source": [
    "close_match=0\n",
    "for b in blast_dict:\n",
    "    aln_len = int(blast_dict[b][2])\n",
    "    q_len = len_dict[b]\n",
    "    if aln_len/q_len > 0.75 and float(blast_dict[b][1])>35:\n",
    "        close_match += 1"
   ]
  },
  {
   "cell_type": "code",
   "execution_count": 68,
   "metadata": {
    "collapsed": false
   },
   "outputs": [
    {
     "name": "stdout",
     "output_type": "stream",
     "text": [
      "911\n"
     ]
    }
   ],
   "source": [
    "print(close_match)"
   ]
  },
  {
   "cell_type": "code",
   "execution_count": null,
   "metadata": {
    "collapsed": true
   },
   "outputs": [],
   "source": []
  },
  {
   "cell_type": "code",
   "execution_count": null,
   "metadata": {
    "collapsed": true
   },
   "outputs": [],
   "source": []
  },
  {
   "cell_type": "code",
   "execution_count": 10,
   "metadata": {
    "collapsed": false
   },
   "outputs": [
    {
     "data": {
      "text/plain": [
       "Index([u'queryId', u' subjectId', u' percIdentity', u' alnLength',\n",
       "       u' mismatchCount', u' gapOpenCount', u' queryStart', u' queryEnd',\n",
       "       u' subjectStart', u' subjectEnd', u' eVal', u' bitScore'],\n",
       "      dtype='object')"
      ]
     },
     "execution_count": 10,
     "metadata": {},
     "output_type": "execute_result"
    }
   ],
   "source": [
    "cnames = \"queryId, subjectId, percIdentity, alnLength, mismatchCount, gapOpenCount, queryStart, queryEnd, subjectStart, subjectEnd, eVal, bitScore\".split(\",\")\n",
    "df = pd.read_csv(\"../data/clust_reps_vs_tara.translated.out\", sep=\"\\t\", names=cnames)\n",
    "df.columns"
   ]
  },
  {
   "cell_type": "code",
   "execution_count": 25,
   "metadata": {
    "collapsed": false
   },
   "outputs": [],
   "source": [
    "total_matches = len(df.queryId.unique())"
   ]
  },
  {
   "cell_type": "code",
   "execution_count": 21,
   "metadata": {
    "collapsed": false
   },
   "outputs": [],
   "source": [
    "!cp /Users/jmb/Desktop/ViralFate/OrthoMCL/phage_v_phage/groups.txt ../data/\n",
    "!cp /Users/jmb/Desktop/ViralFate/OrthoMCL/phage_v_phage/goodProteins.fasta ../data/"
   ]
  },
  {
   "cell_type": "code",
   "execution_count": 72,
   "metadata": {
    "collapsed": false
   },
   "outputs": [
    {
     "name": "stdout",
     "output_type": "stream",
     "text": [
      "out of 2805 omcl groups, 1232 have matches to OM-RGC database, 911 matched at greater than 35% identity over 75% of the protein\n"
     ]
    }
   ],
   "source": [
    "with open(\"../data/groups.txt\") as infile:\n",
    "    for i, l in enumerate(infile):\n",
    "        groupnum = i \n",
    "print(\"out of {i} omcl groups, {j} have matches to OM-RGC database, \"\n",
    "      \"{k} matched at greater than 35% identity over 75% of the protein\".format(i=groupnum, j=total_matches, k=close_match))"
   ]
  },
  {
   "cell_type": "code",
   "execution_count": null,
   "metadata": {
    "collapsed": true
   },
   "outputs": [],
   "source": []
  }
 ],
 "metadata": {
  "kernelspec": {
   "display_name": "Python 2",
   "language": "python",
   "name": "python2"
  },
  "language_info": {
   "codemirror_mode": {
    "name": "ipython",
    "version": 2
   },
   "file_extension": ".py",
   "mimetype": "text/x-python",
   "name": "python",
   "nbconvert_exporter": "python",
   "pygments_lexer": "ipython2",
   "version": "2.7.11"
  }
 },
 "nbformat": 4,
 "nbformat_minor": 0
}
